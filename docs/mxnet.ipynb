{
 "cells": [
  {
   "cell_type": "markdown",
   "metadata": {},
   "source": [
    "# 准备笔记环境 - MXNet"
   ]
  },
  {
   "cell_type": "markdown",
   "metadata": {},
   "source": [
    "## 安装 Anaconda\n",
    "\n",
    "- Anaconda: https://www.anaconda.com/products/individual#Downloads"
   ]
  },
  {
   "cell_type": "markdown",
   "metadata": {},
   "source": [
    "## 安装 JupyterLab\n",
    "\n",
    "- JupyterLab: https://jupyterlab.readthedocs.io/\n",
    "\n",
    "应该已随 Anaconda 安装，如下查看版本：\n",
    "\n",
    "```bash\n",
    "jupyter --version\n",
    "```\n",
    "\n",
    "不然，如下进行安装：\n",
    "\n",
    "```bash\n",
    "conda install -c conda-forge jupyterlab\n",
    "```\n",
    "\n",
    "版本 `< 3.0` 建议安装 [TOC 扩展](https://github.com/jupyterlab/jupyterlab-toc)：\n",
    "\n",
    "```bash\n",
    "jupyter labextension install @jupyterlab/toc\n",
    "```"
   ]
  },
  {
   "cell_type": "markdown",
   "metadata": {},
   "source": [
    "## 创建 MXNet 环境\n",
    "\n",
    "- MXNet: https://mxnet.apache.org/\n",
    "\n",
    "```bash\n",
    "# 创建虚拟环境\n",
    "conda create -n mxnet python=3.8 ipykernel -y\n",
    "conda activate mxnet\n",
    "\n",
    "# 配置北外镜像源\n",
    "pip config set global.index-url https://mirrors.bfsu.edu.cn/pypi/web/simple\n",
    "\n",
    "# 安装 MXNet CUDA 版本\n",
    "pip install mxnet-cu102\n",
    "\n",
    "# 安装其他依赖\n",
    "pip install d2l matplotlib pandas\n",
    "```\n",
    "\n",
    "- [MXNet 版本情况](https://pypi.org/project/mxnet/)\n",
    "- [CUDA 与驱动版本兼容情况](https://docs.nvidia.com/deploy/cuda-compatibility/index.html#binary-compatibility__table-toolkit-driver)\n",
    "\n",
    "如下检查 MXNet 版本与 GPU 支持情况：\n",
    "\n",
    "```bash\n",
    "$ python - <<EOF\n",
    "import mxnet as mx\n",
    "mxgpu_ok = False\n",
    "try:\n",
    "  _ = mx.nd.array(1, ctx=mx.gpu(0))\n",
    "  mxgpu_ok = True\n",
    "except:\n",
    "  mxgpu_ok = False\n",
    "print(mx.__version__, mxgpu_ok)\n",
    "EOF\n",
    "1.7.0, True\n",
    "```"
   ]
  },
  {
   "cell_type": "code",
   "execution_count": 1,
   "metadata": {},
   "outputs": [
    {
     "name": "stdout",
     "output_type": "stream",
     "text": [
      "1.7.0 True\n"
     ]
    }
   ],
   "source": [
    "import mxnet as mx\n",
    "mxgpu_ok = False\n",
    "try:\n",
    " _ = mx.nd.array(1, ctx=mx.gpu(0))\n",
    " mxgpu_ok = True\n",
    "except:\n",
    " mxgpu_ok = False\n",
    "print(mx.__version__, mxgpu_ok)"
   ]
  },
  {
   "cell_type": "markdown",
   "metadata": {},
   "source": [
    "## 将 MXNet 环境导入 Jupyter Kernel\n",
    "\n",
    "```bash\n",
    "conda activate mxnet\n",
    "python -m ipykernel install --user --name mxnet --display-name \"Python MXNet\"\n",
    "```"
   ]
  },
  {
   "cell_type": "markdown",
   "metadata": {},
   "source": [
    "## 获取笔记\n",
    "\n",
    "```bash\n",
    "git clone https://github.com/ikuokuo/read-d2l.git\n",
    "```"
   ]
  },
  {
   "cell_type": "markdown",
   "metadata": {},
   "source": [
    "## 打开 JupyterLab ，浏览笔记 `*.ipynb`\n",
    "\n",
    "```bash\n",
    "jupyter lab\n",
    "```\n",
    "\n",
    "浏览器会打开 http://localhost:8888/ ，于左侧文件里浏览笔记 `*.ipynb`。\n",
    "\n",
    "或者 VS Code 安装 Jupyter 扩展进行浏览或编辑。\n",
    "\n",
    "> 注意：浏览笔记时，右上角选择的 Kernel 应为 `Python MXNet`。"
   ]
  }
 ],
 "metadata": {
  "kernelspec": {
   "display_name": "Python MXNet",
   "language": "python",
   "name": "mxnet"
  },
  "language_info": {
   "codemirror_mode": {
    "name": "ipython",
    "version": 3
   },
   "file_extension": ".py",
   "mimetype": "text/x-python",
   "name": "python",
   "nbconvert_exporter": "python",
   "pygments_lexer": "ipython3",
   "version": "3.8.5"
  }
 },
 "nbformat": 4,
 "nbformat_minor": 4
}
