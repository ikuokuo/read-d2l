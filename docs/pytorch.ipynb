{
 "cells": [
  {
   "cell_type": "markdown",
   "metadata": {},
   "source": [
    "# 准备笔记环境 - PyTorch"
   ]
  },
  {
   "cell_type": "markdown",
   "metadata": {},
   "source": [
    "## 安装 Anaconda\n",
    "\n",
    "- Anaconda: https://www.anaconda.com/products/individual#Downloads\n",
    "- 北外镜像源: https://mirrors.bfsu.edu.cn/help/anaconda/\n",
    "\n",
    "```bash\n",
    "# 激活 base 环境\n",
    "conda activate base\n",
    "```"
   ]
  },
  {
   "cell_type": "markdown",
   "metadata": {},
   "source": [
    "## 安装 JupyterLab\n",
    "\n",
    "- JupyterLab: https://jupyterlab.readthedocs.io/\n",
    "\n",
    "应该已随 Anaconda 安装，如下查看版本：\n",
    "\n",
    "```bash\n",
    "jupyter --version\n",
    "```\n",
    "\n",
    "不然，如下进行安装：\n",
    "\n",
    "```bash\n",
    "conda install -c conda-forge jupyterlab\n",
    "```\n",
    "\n",
    "执行 `jupyter lab` 启动，浏览器会打开 http://localhost:8888/ ：\n",
    "\n",
    "![](images/jupyterlab.png)\n",
    "\n",
    "版本 `< 3.0` 建议安装 [TOC 扩展](https://github.com/jupyterlab/jupyterlab-toc)：\n",
    "\n",
    "```bash\n",
    "jupyter labextension install @jupyterlab/toc\n",
    "```\n",
    "\n",
    "TOC 效果如下：\n",
    "\n",
    "![](images/jupyterlab_toc.png)"
   ]
  },
  {
   "cell_type": "markdown",
   "metadata": {},
   "source": [
    "## 创建 PyTorch 环境\n",
    "\n",
    "- PyTorch: https://pytorch.org/\n",
    "\n",
    "```bash\n",
    "# 创建虚拟环境\n",
    "conda create -n pytorch python=3.8 -y\n",
    "conda activate pytorch\n",
    "\n",
    "# 安装 PyTorch with CUDA\n",
    "#  NOTE: Python 3.9 users will need to add '-c=conda-forge' for installation\n",
    "conda install pytorch==1.7.1 torchvision==0.8.2 cudatoolkit=10.2 -c pytorch -y\n",
    "```\n",
    "\n",
    "- [torch, torchvision, python 版本兼容情况](https://github.com/pytorch/vision#installation)\n",
    "- [CUDA Toolkit 与 Nvidia 驱动版本兼容情况](https://docs.nvidia.com/deploy/cuda-compatibility/index.html#binary-compatibility__table-toolkit-driver)\n",
    "\n",
    "如下检查 PyTorch 版本与 GPU 支持情况：\n",
    "\n",
    "```bash\n",
    "$ python - <<EOF\n",
    "import torch, torchvision\n",
    "print(torch.__version__, torch.cuda.is_available())\n",
    "EOF\n",
    "1.7.1 True\n",
    "```"
   ]
  },
  {
   "cell_type": "code",
   "execution_count": 1,
   "metadata": {},
   "outputs": [
    {
     "name": "stdout",
     "output_type": "stream",
     "text": [
      "1.7.1 True\n"
     ]
    }
   ],
   "source": [
    "import torch, torchvision\n",
    "print(torch.__version__, torch.cuda.is_available())"
   ]
  },
  {
   "cell_type": "markdown",
   "metadata": {},
   "source": [
    "## 导入 PyTorch 环境\n",
    "\n",
    "```bash\n",
    "conda activate pytorch\n",
    "# 安装 IPython kernel for Jupyter\n",
    "conda install ipykernel -y\n",
    "# 导入 pytorch 虚拟环境到 ipykernel\n",
    "python -m ipykernel install --user --name pytorch --display-name \"Python PyTorch\"\n",
    "```\n",
    "\n",
    "`Python PyTorch` 即会添加进 `Launcher`：\n",
    "\n",
    "![](images/jupyterlab_kernel.png)"
   ]
  },
  {
   "cell_type": "markdown",
   "metadata": {},
   "source": [
    "## 安装笔记依赖\n",
    "\n",
    "```bash\n",
    "conda activate pytorch\n",
    "# 配置北外镜像源\n",
    "pip config set global.index-url https://mirrors.bfsu.edu.cn/pypi/web/simple\n",
    "# 安装笔记的依赖\n",
    "pip install d2lzh matplotlib pandas\n",
    "```"
   ]
  },
  {
   "cell_type": "markdown",
   "metadata": {},
   "source": [
    "## 获取笔记\n",
    "\n",
    "```bash\n",
    "git clone https://github.com/ikuokuo/read-d2l.git\n",
    "```"
   ]
  },
  {
   "cell_type": "markdown",
   "metadata": {},
   "source": [
    "## 打开 JupyterLab ，浏览笔记 `*.ipynb`\n",
    "\n",
    "```bash\n",
    "conda activate base\n",
    "# 启动 JupyterLab\n",
    "jupyter lab\n",
    "```\n",
    "\n",
    "浏览器会打开 http://localhost:8888/ ，于左侧文件里即可浏览笔记 `*.ipynb`。\n",
    "\n",
    "> 注意：浏览笔记时，右上角选择的 Kernel 应为 `Python PyTorch`。\n",
    "\n",
    "![](images/ipynb_write.png)\n",
    "\n",
    "或者 VS Code 安装 Jupyter 扩展进行浏览或编辑。\n",
    "\n",
    "![](images/ipynb_vscode.png)"
   ]
  }
 ],
 "metadata": {
  "kernelspec": {
   "display_name": "Python PyTorch",
   "language": "python",
   "name": "pytorch"
  },
  "language_info": {
   "codemirror_mode": {
    "name": "ipython",
    "version": 3
   },
   "file_extension": ".py",
   "mimetype": "text/x-python",
   "name": "python",
   "nbconvert_exporter": "python",
   "pygments_lexer": "ipython3",
   "version": "3.8.5"
  }
 },
 "nbformat": 4,
 "nbformat_minor": 4
}
