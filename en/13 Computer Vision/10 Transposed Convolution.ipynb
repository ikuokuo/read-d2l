{
 "cells": [
  {
   "cell_type": "markdown",
   "id": "suffering-sandwich",
   "metadata": {},
   "source": [
    "# Transposed Convolution\n",
    "\n",
    "The layers we introduced so far for convolutional neural networks, including\n",
    "convolutional layers (:numref:`sec_conv_layer`) and pooling layers (:numref:`sec_pooling`), often reduce the input width and height, or keep them unchanged. Applications such as semantic segmentation (:numref:`sec_semantic_segmentation`) and generative adversarial networks (:numref:`sec_dcgan`), however, require to predict values for each pixel and therefore needs to increase input width and height. Transposed convolution, also named fractionally-strided convolution :cite:`Dumoulin.Visin.2016` or deconvolution :cite:`Long.Shelhamer.Darrell.2015`, serves this purpose."
   ]
  },
  {
   "cell_type": "code",
   "execution_count": 1,
   "id": "olympic-satin",
   "metadata": {},
   "outputs": [],
   "source": [
    "import torch\n",
    "from torch import nn\n",
    "from d2l import torch as d2l"
   ]
  },
  {
   "cell_type": "markdown",
   "id": "likely-clinic",
   "metadata": {},
   "source": [
    "## Basic 2D Transposed Convolution\n",
    "\n",
    "Let us consider a basic case that both input and output channels are 1, with 0 padding and 1 stride. :numref:`fig_trans_conv` illustrates how transposed convolution with a $2\\times 2$ kernel is computed on the $2\\times 2$ input matrix.\n",
    "\n",
    "![](../img/trans-conv.svg) Transposed convolution layer with a $2\\times 2$ kernel.\n",
    ":label:`fig_trans_conv`\n",
    "\n",
    "We can implement this operation by giving matrix kernel $K$ and matrix input $X$."
   ]
  },
  {
   "cell_type": "code",
   "execution_count": 2,
   "id": "bacterial-texas",
   "metadata": {},
   "outputs": [],
   "source": [
    "def trans_conv(X, K):\n",
    "    h, w = K.shape\n",
    "    Y = torch.zeros((X.shape[0] + h - 1, X.shape[1] + w - 1))\n",
    "    for i in range(X.shape[0]):\n",
    "        for j in range(X.shape[1]):\n",
    "            Y[i: i + h, j: j + w] += X[i, j] * K\n",
    "    return Y"
   ]
  },
  {
   "cell_type": "markdown",
   "id": "capital-bracelet",
   "metadata": {},
   "source": [
    "Remember the convolution computes results by `Y[i, j] = (X[i: i + h, j: j + w] * K).sum()` (refer to `corr2d` in :numref:`sec_conv_layer`), which summarizes input values through the kernel. While the transposed convolution broadcasts input values through the kernel, which results in a larger output shape.\n",
    "\n",
    "Verify the results in :numref:`fig_trans_conv`."
   ]
  },
  {
   "cell_type": "code",
   "execution_count": 3,
   "id": "prescription-feelings",
   "metadata": {},
   "outputs": [
    {
     "data": {
      "text/plain": [
       "tensor([[ 0.,  0.,  1.],\n",
       "        [ 0.,  4.,  6.],\n",
       "        [ 4., 12.,  9.]])"
      ]
     },
     "execution_count": 3,
     "metadata": {},
     "output_type": "execute_result"
    }
   ],
   "source": [
    "X = torch.tensor([[0., 1], [2, 3]])\n",
    "K = torch.tensor([[0., 1], [2, 3]])\n",
    "trans_conv(X, K)"
   ]
  },
  {
   "cell_type": "markdown",
   "id": "naughty-entertainment",
   "metadata": {},
   "source": [
    "Or we can use `nn.ConvTranspose2d` to obtain the same results. As `nn.Conv2d`, both input and kernel should be 4-D tensors."
   ]
  },
  {
   "cell_type": "code",
   "execution_count": 4,
   "id": "inclusive-associate",
   "metadata": {},
   "outputs": [
    {
     "data": {
      "text/plain": [
       "tensor([[[[ 0.,  0.,  1.],\n",
       "          [ 0.,  4.,  6.],\n",
       "          [ 4., 12.,  9.]]]], grad_fn=<SlowConvTranspose2DBackward>)"
      ]
     },
     "execution_count": 4,
     "metadata": {},
     "output_type": "execute_result"
    }
   ],
   "source": [
    "X, K = X.reshape(1, 1, 2, 2), K.reshape(1, 1, 2, 2)\n",
    "tconv = nn.ConvTranspose2d(1, 1, kernel_size=2, bias=False)\n",
    "tconv.weight.data = K\n",
    "tconv(X)"
   ]
  },
  {
   "cell_type": "markdown",
   "id": "unsigned-protection",
   "metadata": {},
   "source": [
    "## Padding, Strides, and Channels\n",
    "\n",
    "We apply padding elements to the input in convolution, while they are applied to the output in transposed convolution. A $1\\times 1$ padding means we first compute the output as normal, then remove the first/last rows and columns."
   ]
  },
  {
   "cell_type": "code",
   "execution_count": 5,
   "id": "dominican-transcription",
   "metadata": {},
   "outputs": [
    {
     "data": {
      "text/plain": [
       "tensor([[[[4.]]]], grad_fn=<SlowConvTranspose2DBackward>)"
      ]
     },
     "execution_count": 5,
     "metadata": {},
     "output_type": "execute_result"
    }
   ],
   "source": [
    "tconv = nn.ConvTranspose2d(1, 1, kernel_size=2, padding=1, bias=False)\n",
    "tconv.weight.data = K\n",
    "tconv(X)"
   ]
  },
  {
   "cell_type": "markdown",
   "id": "failing-comfort",
   "metadata": {},
   "source": [
    "Similarly, strides are applied to outputs as well."
   ]
  },
  {
   "cell_type": "code",
   "execution_count": 6,
   "id": "advised-command",
   "metadata": {},
   "outputs": [
    {
     "data": {
      "text/plain": [
       "tensor([[[[0., 0., 0., 1.],\n",
       "          [0., 0., 2., 3.],\n",
       "          [0., 2., 0., 3.],\n",
       "          [4., 6., 6., 9.]]]], grad_fn=<SlowConvTranspose2DBackward>)"
      ]
     },
     "execution_count": 6,
     "metadata": {},
     "output_type": "execute_result"
    }
   ],
   "source": [
    "tconv = nn.ConvTranspose2d(1, 1, kernel_size=2, stride=2, bias=False)\n",
    "tconv.weight.data = K\n",
    "tconv(X)"
   ]
  },
  {
   "cell_type": "markdown",
   "id": "statistical-notification",
   "metadata": {},
   "source": [
    "The multi-channel extension of the transposed convolution is the same as the convolution. When the input has multiple channels, denoted by $c_i$, the transposed convolution assigns a $k_h\\times k_w$ kernel matrix to each input channel. If the output has a channel size $c_o$, then we have a $c_i\\times k_h\\times k_w$ kernel for each output channel.\n",
    "\n",
    "As a result, if we feed $X$ into a convolutional layer $f$ to compute $Y=f(X)$ and create a transposed convolution layer $g$ with the same hyperparameters as $f$ except for the output channel set to be the channel size of $X$, then $g(Y)$ should has the same shape as $X$. Let us verify this statement."
   ]
  },
  {
   "cell_type": "code",
   "execution_count": 7,
   "id": "retained-discussion",
   "metadata": {},
   "outputs": [
    {
     "data": {
      "text/plain": [
       "True"
      ]
     },
     "execution_count": 7,
     "metadata": {},
     "output_type": "execute_result"
    }
   ],
   "source": [
    "X = torch.rand(size=(1, 10, 16, 16))\n",
    "conv = nn.Conv2d(10, 20, kernel_size=5, padding=2, stride=3)\n",
    "tconv = nn.ConvTranspose2d(20, 10, kernel_size=5, padding=2, stride=3)\n",
    "tconv(conv(X)).shape == X.shape"
   ]
  },
  {
   "cell_type": "markdown",
   "id": "affiliated-seventh",
   "metadata": {},
   "source": [
    "## Analogy to Matrix Transposition\n",
    "\n",
    "The transposed convolution takes its name from the matrix transposition. In fact, convolution operations can also be achieved by matrix multiplication. In the example below, we define a $3\\times 3$ input $X$ with a $2\\times 2$ kernel $K$, and then use `corr2d` to compute the convolution output."
   ]
  },
  {
   "cell_type": "code",
   "execution_count": 8,
   "id": "operating-netherlands",
   "metadata": {},
   "outputs": [
    {
     "data": {
      "text/plain": [
       "tensor([[19., 25.],\n",
       "        [37., 43.]])"
      ]
     },
     "execution_count": 8,
     "metadata": {},
     "output_type": "execute_result"
    }
   ],
   "source": [
    "X = torch.arange(9.0).reshape(3, 3)\n",
    "K = torch.tensor([[0, 1], [2, 3]])\n",
    "Y = d2l.corr2d(X, K)\n",
    "Y"
   ]
  },
  {
   "cell_type": "markdown",
   "id": "weighted-angola",
   "metadata": {},
   "source": [
    "Next, we rewrite convolution kernel $K$ as a matrix $W$. Its shape will be $(4, 9)$, where the $i^\\mathrm{th}$ row present applying the kernel to the input to generate the $i^\\mathrm{th}$ output element."
   ]
  },
  {
   "cell_type": "code",
   "execution_count": 9,
   "id": "smaller-session",
   "metadata": {},
   "outputs": [
    {
     "data": {
      "text/plain": [
       "tensor([[0., 1., 0., 2., 3., 0., 0., 0., 0.],\n",
       "        [0., 0., 1., 0., 2., 3., 0., 0., 0.],\n",
       "        [0., 0., 0., 0., 1., 0., 2., 3., 0.],\n",
       "        [0., 0., 0., 0., 0., 1., 0., 2., 3.]])"
      ]
     },
     "execution_count": 9,
     "metadata": {},
     "output_type": "execute_result"
    }
   ],
   "source": [
    "def kernel2matrix(K):\n",
    "    k, W = torch.zeros(5), torch.zeros((4, 9))\n",
    "    k[:2], k[3:5] = K[0, :], K[1, :]\n",
    "    W[0, :5], W[1, 1:6], W[2, 3:8], W[3, 4:] = k, k, k, k\n",
    "    return W\n",
    "\n",
    "W = kernel2matrix(K)\n",
    "W"
   ]
  },
  {
   "cell_type": "markdown",
   "id": "controlled-football",
   "metadata": {},
   "source": [
    "Then the convolution operator can be implemented by matrix multiplication with proper reshaping."
   ]
  },
  {
   "cell_type": "code",
   "execution_count": 10,
   "id": "criminal-participant",
   "metadata": {},
   "outputs": [
    {
     "data": {
      "text/plain": [
       "tensor([[True, True],\n",
       "        [True, True]])"
      ]
     },
     "execution_count": 10,
     "metadata": {},
     "output_type": "execute_result"
    }
   ],
   "source": [
    "Y == torch.mv(W, X.reshape(-1)).reshape(2, 2)"
   ]
  },
  {
   "cell_type": "markdown",
   "id": "prime-rebate",
   "metadata": {},
   "source": [
    "We can implement transposed convolution as a matrix multiplication as well by reusing `kernel2matrix`. To reuse the generated $W$, we construct a $2\\times 2$ input, so the corresponding weight matrix will have a shape $(9, 4)$, which is $W^\\top$. Let us verify the results."
   ]
  },
  {
   "cell_type": "code",
   "execution_count": 11,
   "id": "beginning-maldives",
   "metadata": {},
   "outputs": [
    {
     "data": {
      "text/plain": [
       "tensor([[True, True, True],\n",
       "        [True, True, True],\n",
       "        [True, True, True]])"
      ]
     },
     "execution_count": 11,
     "metadata": {},
     "output_type": "execute_result"
    }
   ],
   "source": [
    "X = torch.tensor([[0.0, 1], [2, 3]])\n",
    "Y = trans_conv(X, K)\n",
    "Y == torch.mv(W.T, X.reshape(-1)).reshape(3, 3)"
   ]
  },
  {
   "cell_type": "markdown",
   "id": "secret-yemen",
   "metadata": {},
   "source": [
    "## Summary\n",
    "\n",
    "* Compared to convolutions that reduce inputs through kernels, transposed convolutions broadcast inputs.\n",
    "* If a convolution layer reduces the input width and height by $n_w$ and $h_h$ time, respectively. Then a transposed convolution layer with the same kernel sizes, padding and strides will increase the input width and height by $n_w$ and $n_h$, respectively.\n",
    "* We can implement convolution operations by the matrix multiplication, the corresponding transposed convolutions can be done by transposed matrix multiplication."
   ]
  },
  {
   "cell_type": "markdown",
   "id": "crazy-password",
   "metadata": {},
   "source": [
    "## Exercises\n",
    "\n",
    "1. Is it efficient to use matrix multiplication to implement convolution operations? Why?"
   ]
  }
 ],
 "metadata": {
  "kernelspec": {
   "display_name": "Python PyTorch",
   "language": "python",
   "name": "pytorch"
  },
  "language_info": {
   "codemirror_mode": {
    "name": "ipython",
    "version": 3
   },
   "file_extension": ".py",
   "mimetype": "text/x-python",
   "name": "python",
   "nbconvert_exporter": "python",
   "pygments_lexer": "ipython3",
   "version": "3.8.5"
  }
 },
 "nbformat": 4,
 "nbformat_minor": 5
}
