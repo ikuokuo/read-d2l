{
 "cells": [
  {
   "cell_type": "markdown",
   "id": "cellular-experience",
   "metadata": {},
   "source": [
    "# Concise Implementation of Linear Regression"
   ]
  },
  {
   "cell_type": "markdown",
   "id": "mexican-floating",
   "metadata": {},
   "source": [
    "## Generating the Dataset"
   ]
  },
  {
   "cell_type": "code",
   "execution_count": 1,
   "id": "offshore-christianity",
   "metadata": {},
   "outputs": [],
   "source": [
    "from d2l import torch as d2l\n",
    "import numpy as np\n",
    "import torch\n",
    "from torch.utils import data\n",
    "\n",
    "true_w = torch.tensor([2, -3.4])\n",
    "true_b = 4.2\n",
    "features, labels = d2l.synthetic_data(true_w, true_b, 1000)"
   ]
  },
  {
   "cell_type": "markdown",
   "id": "impressive-special",
   "metadata": {},
   "source": [
    "## Reading the Dataset"
   ]
  },
  {
   "cell_type": "code",
   "execution_count": 2,
   "id": "proprietary-capability",
   "metadata": {},
   "outputs": [],
   "source": [
    "def load_array(data_arrays, batch_size, is_train=True):\n",
    "    \"\"\"Construct a PyTorch data iterator.\"\"\"\n",
    "    dataset = data.TensorDataset(*data_arrays)\n",
    "    return data.DataLoader(dataset, batch_size, shuffle=is_train)\n",
    "\n",
    "batch_size = 10\n",
    "data_iter = load_array((features, labels), batch_size)"
   ]
  },
  {
   "cell_type": "code",
   "execution_count": 3,
   "id": "theoretical-gallery",
   "metadata": {},
   "outputs": [
    {
     "data": {
      "text/plain": [
       "[tensor([[ 0.2866, -0.0803],\n",
       "         [ 1.4815, -1.2206],\n",
       "         [ 0.8566,  0.2019],\n",
       "         [ 0.5517, -0.2840],\n",
       "         [-1.0887, -0.3544],\n",
       "         [ 0.7117, -1.2348],\n",
       "         [-0.2045, -1.3529],\n",
       "         [-0.6090, -0.9271],\n",
       "         [ 0.6146,  0.1506],\n",
       "         [ 0.0794, -0.4185]]),\n",
       " tensor([[ 5.0411],\n",
       "         [11.3007],\n",
       "         [ 5.2221],\n",
       "         [ 6.2766],\n",
       "         [ 3.2419],\n",
       "         [ 9.8318],\n",
       "         [ 8.4023],\n",
       "         [ 6.1110],\n",
       "         [ 4.9303],\n",
       "         [ 5.7686]])]"
      ]
     },
     "execution_count": 3,
     "metadata": {},
     "output_type": "execute_result"
    }
   ],
   "source": [
    "next(iter(data_iter))"
   ]
  },
  {
   "cell_type": "markdown",
   "id": "dense-disabled",
   "metadata": {},
   "source": [
    "## Defining the Model\n",
    "\n",
    "Recall the architecture of a single-layer network.\n",
    "The layer is said to be *fully-connected*\n",
    "because each of its inputs is connected to each of its outputs\n",
    "by means of a matrix-vector multiplication.\n",
    "\n",
    "In PyTorch, the fully-connected layer is defined in the `Linear` class."
   ]
  },
  {
   "cell_type": "code",
   "execution_count": 4,
   "id": "enhanced-juice",
   "metadata": {},
   "outputs": [],
   "source": [
    "# `nn` is an abbreviation for neural networks\n",
    "from torch import nn\n",
    "net = nn.Sequential(nn.Linear(2, 1))"
   ]
  },
  {
   "cell_type": "markdown",
   "id": "collaborative-bryan",
   "metadata": {},
   "source": [
    "## Initializing Model Parameters"
   ]
  },
  {
   "cell_type": "code",
   "execution_count": 5,
   "id": "becoming-dryer",
   "metadata": {},
   "outputs": [
    {
     "data": {
      "text/plain": [
       "tensor([0.])"
      ]
     },
     "execution_count": 5,
     "metadata": {},
     "output_type": "execute_result"
    }
   ],
   "source": [
    "net[0].weight.data.normal_(0, 0.01)\n",
    "net[0].bias.data.fill_(0)"
   ]
  },
  {
   "cell_type": "markdown",
   "id": "stupid-button",
   "metadata": {},
   "source": [
    "## Defining the Loss Function\n",
    "\n",
    "The `MSELoss` class computes the mean squared error, also known as squared $L_2$ norm.\n",
    "By default it returns the average loss over examples."
   ]
  },
  {
   "cell_type": "code",
   "execution_count": 6,
   "id": "located-battlefield",
   "metadata": {},
   "outputs": [],
   "source": [
    "loss = nn.MSELoss()"
   ]
  },
  {
   "cell_type": "markdown",
   "id": "accomplished-clarity",
   "metadata": {},
   "source": [
    "## Defining the Optimization Algorithm\n",
    "\n",
    "Minibatch stochastic gradient descent is a standard tool\n",
    "for optimizing neural networks\n",
    "and thus PyTorch supports it alongside a number of\n",
    "variations on this algorithm in the `optim` module."
   ]
  },
  {
   "cell_type": "code",
   "execution_count": 7,
   "id": "imported-harris",
   "metadata": {},
   "outputs": [],
   "source": [
    "trainer = torch.optim.SGD(net.parameters(), lr=0.03)"
   ]
  },
  {
   "cell_type": "markdown",
   "id": "vulnerable-reducing",
   "metadata": {},
   "source": [
    "## Training\n",
    "\n",
    "For each minibatch, we go through the following ritual:\n",
    "\n",
    "* Generate predictions by calling `net(X)` and calculate the loss `l` (the forward propagation).\n",
    "* Calculate gradients by running the backpropagation.\n",
    "* Update the model parameters by invoking our optimizer."
   ]
  },
  {
   "cell_type": "code",
   "execution_count": 8,
   "id": "faced-hundred",
   "metadata": {},
   "outputs": [
    {
     "name": "stdout",
     "output_type": "stream",
     "text": [
      "epoch 1, loss 0.000162\n",
      "epoch 2, loss 0.000096\n",
      "epoch 3, loss 0.000096\n"
     ]
    }
   ],
   "source": [
    "num_epochs = 3\n",
    "for epoch in range(num_epochs):\n",
    "    for X, y in data_iter:\n",
    "        l = loss(net(X), y)\n",
    "        trainer.zero_grad()\n",
    "        l.backward()\n",
    "        trainer.step()\n",
    "    l = loss(net(features), labels)\n",
    "    print(f'epoch {epoch + 1}, loss {l:f}')"
   ]
  },
  {
   "cell_type": "code",
   "execution_count": 9,
   "id": "driven-standing",
   "metadata": {},
   "outputs": [
    {
     "name": "stdout",
     "output_type": "stream",
     "text": [
      "error in estimating w: tensor([0.0009, 0.0010])\n",
      "error in estimating b: tensor([-0.0002])\n"
     ]
    }
   ],
   "source": [
    "w = net[0].weight.data\n",
    "print('error in estimating w:', true_w - w.reshape(true_w.shape))\n",
    "b = net[0].bias.data\n",
    "print('error in estimating b:', true_b - b)"
   ]
  },
  {
   "cell_type": "markdown",
   "id": "sapphire-following",
   "metadata": {},
   "source": [
    "## Summary\n",
    "\n",
    "* Using PyTorch's high-level APIs, we can implement models much more concisely.\n",
    "* In PyTorch, the `data` module provides tools for data processing, the `nn` module defines a large number of neural network layers and common loss functions.\n",
    "* We can initialize the parameters by replacing their values with methods ending with `_`."
   ]
  },
  {
   "cell_type": "markdown",
   "id": "cordless-trustee",
   "metadata": {},
   "source": [
    "## Exercises\n",
    "\n",
    "1. If we replace `nn.MSELoss(reduction='sum')` with `nn.MSELoss()`, how can we change the learning rate for the code to behave identically. Why?"
   ]
  },
  {
   "cell_type": "code",
   "execution_count": 10,
   "id": "romantic-glory",
   "metadata": {},
   "outputs": [
    {
     "name": "stdout",
     "output_type": "stream",
     "text": [
      "epoch 1, loss 0.000095\n",
      "epoch 2, loss 0.000097\n",
      "epoch 3, loss 0.000095\n"
     ]
    }
   ],
   "source": [
    "loss = nn.MSELoss(reduction='sum')\n",
    "trainer = torch.optim.SGD(net.parameters(), lr=0.03/batch_size)\n",
    "\n",
    "num_epochs = 3\n",
    "for epoch in range(num_epochs):\n",
    "    for X, y in data_iter:\n",
    "        l = loss(net(X), y)\n",
    "        trainer.zero_grad()\n",
    "        l.backward()\n",
    "        trainer.step()\n",
    "    l = loss(net(features), labels) / len(features)\n",
    "    print(f'epoch {epoch + 1}, loss {l:f}')"
   ]
  },
  {
   "cell_type": "markdown",
   "id": "persistent-percentage",
   "metadata": {},
   "source": [
    "2. Review the PyTorch documentation to see what loss functions and initialization methods are provided. Replace the loss by Huber's loss.\n",
    "\n",
    "https://pytorch.org/docs/stable/nn.html#loss-functions"
   ]
  },
  {
   "cell_type": "code",
   "execution_count": 11,
   "id": "technical-packing",
   "metadata": {},
   "outputs": [
    {
     "name": "stdout",
     "output_type": "stream",
     "text": [
      "epoch 1, loss 0.000048\n",
      "epoch 2, loss 0.000048\n",
      "epoch 3, loss 0.000048\n"
     ]
    }
   ],
   "source": [
    "loss = nn.SmoothL1Loss()\n",
    "trainer = torch.optim.SGD(net.parameters(), lr=0.03)\n",
    "\n",
    "num_epochs = 3\n",
    "for epoch in range(num_epochs):\n",
    "    for X, y in data_iter:\n",
    "        l = loss(net(X), y)\n",
    "        trainer.zero_grad()\n",
    "        l.backward()\n",
    "        trainer.step()\n",
    "    l = loss(net(features), labels)\n",
    "    print(f'epoch {epoch + 1}, loss {l:f}')"
   ]
  },
  {
   "cell_type": "markdown",
   "id": "universal-water",
   "metadata": {},
   "source": [
    "3. How do you access the gradient of `net[0].weight`?"
   ]
  },
  {
   "cell_type": "code",
   "execution_count": 12,
   "id": "extensive-israel",
   "metadata": {},
   "outputs": [
    {
     "data": {
      "text/plain": [
       "tensor([[0.0052, 0.0032]])"
      ]
     },
     "execution_count": 12,
     "metadata": {},
     "output_type": "execute_result"
    }
   ],
   "source": [
    "net[0].weight.grad"
   ]
  }
 ],
 "metadata": {
  "kernelspec": {
   "display_name": "Python PyTorch",
   "language": "python",
   "name": "pytorch"
  },
  "language_info": {
   "codemirror_mode": {
    "name": "ipython",
    "version": 3
   },
   "file_extension": ".py",
   "mimetype": "text/x-python",
   "name": "python",
   "nbconvert_exporter": "python",
   "pygments_lexer": "ipython3",
   "version": "3.8.5"
  }
 },
 "nbformat": 4,
 "nbformat_minor": 5
}
