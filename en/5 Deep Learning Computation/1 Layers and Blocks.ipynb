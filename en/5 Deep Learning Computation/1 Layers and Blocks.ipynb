{
 "cells": [
  {
   "cell_type": "markdown",
   "id": "leading-television",
   "metadata": {},
   "source": [
    "# Layers and Blocks\n",
    "\n",
    "While you might think that neurons, layers, and models\n",
    "give us enough abstractions to go about our business,\n",
    "it turns out that we often find it convenient\n",
    "to speak about components that are\n",
    "larger than an individual layer\n",
    "but smaller than the entire model.\n",
    "For example, the ResNet-152 architecture,\n",
    "which is wildly popular in computer vision,\n",
    "possesses hundreds of layers.\n",
    "These layers consist of repeating patterns of *groups of layers*.\n",
    "Similar architectures in which layers are arranged in various repeating patterns are now ubiquitous in other domains, including natural language processing and speech.\n",
    "\n",
    "To implement these complex networks,\n",
    "we introduce the concept of a neural network *block*.\n",
    "A block could describe a single layer,\n",
    "a component consisting of multiple layers,\n",
    "or the entire model itself!\n",
    "\n",
    "![](../img/blocks.svg) Multiple layers are combined into blocks, forming repeating patterns of larger models.\n",
    "\n",
    "From a programing standpoint, a block is represented by a *class*.\n",
    "Any subclass of it must define a forward propagation function\n",
    "that transforms its input into output\n",
    "and must store any necessary parameters.\n",
    "Finally a block must possess a backpropagation function,\n",
    "for purposes of calculating gradients.\n",
    "Fortunately, due to some behind-the-scenes magic\n",
    "supplied by the auto differentiation\n",
    "when defining our own block,\n",
    "we only need to worry about parameters\n",
    "and the forward propagation function.\n",
    "\n",
    "To begin, we revisit the code\n",
    "that we used to implement MLPs.\n",
    "The following code generates a network\n",
    "with one fully-connected hidden layer\n",
    "with 256 units and ReLU activation,\n",
    "followed by a fully-connected output layer\n",
    "with 10 units (no activation function)."
   ]
  },
  {
   "cell_type": "code",
   "execution_count": 1,
   "id": "smaller-runner",
   "metadata": {},
   "outputs": [
    {
     "data": {
      "text/plain": [
       "tensor([[ 9.1208e-02,  7.0044e-02, -2.3828e-02, -1.3802e-01,  4.5618e-02,\n",
       "         -3.0963e-01,  4.7919e-02,  4.3380e-03,  2.5148e-04,  6.8866e-02],\n",
       "        [ 2.0288e-01,  6.1599e-02, -7.3156e-02, -1.5446e-01, -9.7498e-03,\n",
       "         -2.9683e-01, -9.9018e-02, -1.4862e-01,  1.5945e-02,  9.2983e-02]],\n",
       "       grad_fn=<AddmmBackward>)"
      ]
     },
     "execution_count": 1,
     "metadata": {},
     "output_type": "execute_result"
    }
   ],
   "source": [
    "import torch\n",
    "from torch import nn\n",
    "from torch.nn import functional as F\n",
    "\n",
    "net = nn.Sequential(nn.Linear(20, 256), nn.ReLU(), nn.Linear(256, 10))\n",
    "\n",
    "X = torch.rand(2, 20)\n",
    "net(X)"
   ]
  },
  {
   "cell_type": "markdown",
   "id": "outstanding-turner",
   "metadata": {},
   "source": [
    "## A Custom Block\n",
    "\n",
    "Perhaps the easiest way to develop intuition\n",
    "about how a block works\n",
    "is to implement one ourselves.\n",
    "Before we implement our own custom block,\n",
    "we briefly summarize the basic functionality\n",
    "that each block must provide:\n",
    "\n",
    "1. Ingest input data as arguments to its forward propagation function.\n",
    "1. Generate an output by having the forward propagation function return a value. Note that the output may have a different shape from the input. For example, the first fully-connected layer in our model above ingests an      input of arbitrary dimension but returns an output of dimension 256.\n",
    "1. Calculate the gradient of its output with respect to its input, which can be accessed via its backpropagation function. Typically this happens automatically.\n",
    "1. Store and provide access to those parameters necessary\n",
    "   to execute the forward propagation computation.\n",
    "1. Initialize model parameters as needed."
   ]
  },
  {
   "cell_type": "code",
   "execution_count": 2,
   "id": "mysterious-ethernet",
   "metadata": {},
   "outputs": [],
   "source": [
    "class MLP(nn.Module):\n",
    "    # Declare a layer with model parameters. Here, we declare two fully\n",
    "    # connected layers\n",
    "    def __init__(self):\n",
    "        # Call the constructor of the `MLP` parent class `Block` to perform\n",
    "        # the necessary initialization. In this way, other function arguments\n",
    "        # can also be specified during class instantiation, such as the model\n",
    "        # parameters, `params` (to be described later)\n",
    "        super().__init__()\n",
    "        self.hidden = nn.Linear(20, 256)  # Hidden layer\n",
    "        self.out = nn.Linear(256, 10)  # Output layer\n",
    "\n",
    "    # Define the forward propagation of the model, that is, how to return the\n",
    "    # required model output based on the input `X`\n",
    "    def forward(self, X):\n",
    "        # Note here we use the funtional version of ReLU defined in the\n",
    "        # nn.functional module.\n",
    "        return self.out(F.relu(self.hidden(X)))"
   ]
  },
  {
   "cell_type": "code",
   "execution_count": 3,
   "id": "internal-visitor",
   "metadata": {},
   "outputs": [
    {
     "data": {
      "text/plain": [
       "tensor([[-0.1627, -0.1078, -0.1854, -0.0519,  0.0407,  0.1201, -0.0689, -0.1101,\n",
       "         -0.0269, -0.0467],\n",
       "        [-0.1579, -0.2128, -0.3084, -0.1172, -0.0437,  0.1270, -0.1268, -0.0487,\n",
       "          0.0663, -0.0125]], grad_fn=<AddmmBackward>)"
      ]
     },
     "execution_count": 3,
     "metadata": {},
     "output_type": "execute_result"
    }
   ],
   "source": [
    "net = MLP()\n",
    "net(X)"
   ]
  },
  {
   "cell_type": "markdown",
   "id": "apart-charleston",
   "metadata": {},
   "source": [
    "## The Sequential Block"
   ]
  },
  {
   "cell_type": "code",
   "execution_count": 4,
   "id": "bound-cancellation",
   "metadata": {},
   "outputs": [],
   "source": [
    "class MySequential(nn.Module):\n",
    "    def __init__(self, *args):\n",
    "        super().__init__()\n",
    "        for block in args:\n",
    "            # Here, `block` is an instance of a `Module` subclass. We save it\n",
    "            # in the member variable `_modules` of the `Module` class, and its\n",
    "            # type is OrderedDict\n",
    "            self._modules[block] = block\n",
    "\n",
    "    def forward(self, X):\n",
    "        # OrderedDict guarantees that members will be traversed in the order\n",
    "        # they were added\n",
    "        for block in self._modules.values():\n",
    "            X = block(X)\n",
    "        return X"
   ]
  },
  {
   "cell_type": "markdown",
   "id": "thick-forty",
   "metadata": {},
   "source": [
    "You might wonder why every `Module`\n",
    "possesses a `_modules` attribute.\n",
    "In short the chief advantage of `_modules`\n",
    "is that during our block's parameter initialization,\n",
    "the system knows to look inside the `_modules`\n",
    "dictionary to find sub-blocks whose\n",
    "parameters also need to be initialized.\n",
    "\n",
    "We can now reimplement an MLP\n",
    "using our `MySequential` class."
   ]
  },
  {
   "cell_type": "code",
   "execution_count": 5,
   "id": "described-ground",
   "metadata": {},
   "outputs": [
    {
     "data": {
      "text/plain": [
       "tensor([[-0.2542,  0.0695, -0.0665, -0.0247,  0.2709, -0.1355,  0.0628,  0.0934,\n",
       "         -0.1064,  0.0096],\n",
       "        [-0.2589, -0.0306,  0.0194,  0.0259,  0.1384, -0.0936,  0.0792,  0.2450,\n",
       "         -0.1837,  0.1003]], grad_fn=<AddmmBackward>)"
      ]
     },
     "execution_count": 5,
     "metadata": {},
     "output_type": "execute_result"
    }
   ],
   "source": [
    "net = MySequential(nn.Linear(20, 256), nn.ReLU(), nn.Linear(256, 10))\n",
    "net(X)"
   ]
  },
  {
   "cell_type": "markdown",
   "id": "opening-holocaust",
   "metadata": {},
   "source": [
    "## Executing Code in the Forward Propagation Function\n",
    "\n",
    "When greater flexibility is required,\n",
    "we will want to define our own blocks.\n",
    "For example, we might want to execute\n",
    "Python's control flow within the forward propagation function.\n",
    "Moreover, we might want to perform\n",
    "arbitrary mathematical operations,\n",
    "not simply relying on predefined neural network layers.\n",
    "\n",
    "You might have noticed that until now,\n",
    "all of the operations in our networks\n",
    "have acted upon our network's activations\n",
    "and its parameters.\n",
    "Sometimes, however, we might want to\n",
    "incorporate terms\n",
    "that are neither the result of previous layers\n",
    "nor updatable parameters.\n",
    "We call these *constant parameters*.\n",
    "\n",
    "Say for example that we want a layer\n",
    "that calculates the function\n",
    "$f(\\mathbf{x},\\mathbf{w}) = c \\cdot \\mathbf{w}^\\top \\mathbf{x}$,\n",
    "where $\\mathbf{x}$ is the input, $\\mathbf{w}$ is our parameter,\n",
    "and $c$ is some specified constant\n",
    "that is not updated during optimization."
   ]
  },
  {
   "cell_type": "code",
   "execution_count": 6,
   "id": "guided-supplement",
   "metadata": {},
   "outputs": [],
   "source": [
    "class FixedHiddenMLP(nn.Module):\n",
    "    def __init__(self):\n",
    "        super().__init__()\n",
    "        # Random weight parameters that will not compute gradients and\n",
    "        # therefore keep constant during training\n",
    "        self.rand_weight = torch.rand((20, 20), requires_grad=False)\n",
    "        self.linear = nn.Linear(20, 20)\n",
    "\n",
    "    def forward(self, X):\n",
    "        X = self.linear(X)\n",
    "        # Use the created constant parameters, as well as the `relu` and `mm`\n",
    "        # functions\n",
    "        X = F.relu(torch.mm(X, self.rand_weight) + 1)\n",
    "        # Reuse the fully-connected layer. This is equivalent to sharing\n",
    "        # parameters with two fully-connected layers\n",
    "        X = self.linear(X)\n",
    "        # Control flow\n",
    "        while X.abs().sum() > 1:\n",
    "            X /= 2\n",
    "        return X.sum()"
   ]
  },
  {
   "cell_type": "code",
   "execution_count": 7,
   "id": "blessed-hammer",
   "metadata": {},
   "outputs": [
    {
     "data": {
      "text/plain": [
       "tensor(-0.0615, grad_fn=<SumBackward0>)"
      ]
     },
     "execution_count": 7,
     "metadata": {},
     "output_type": "execute_result"
    }
   ],
   "source": [
    "net = FixedHiddenMLP()\n",
    "net(X)"
   ]
  },
  {
   "cell_type": "markdown",
   "id": "turkish-river",
   "metadata": {},
   "source": [
    "We can mix and match various\n",
    "ways of assembling blocks together.\n",
    "In the following example, we nest blocks\n",
    "in some creative ways."
   ]
  },
  {
   "cell_type": "code",
   "execution_count": 8,
   "id": "ranging-miniature",
   "metadata": {},
   "outputs": [
    {
     "data": {
      "text/plain": [
       "tensor(0.0043, grad_fn=<SumBackward0>)"
      ]
     },
     "execution_count": 8,
     "metadata": {},
     "output_type": "execute_result"
    }
   ],
   "source": [
    "class NestMLP(nn.Module):\n",
    "    def __init__(self):\n",
    "        super().__init__()\n",
    "        self.net = nn.Sequential(nn.Linear(20, 64), nn.ReLU(),\n",
    "                                 nn.Linear(64, 32), nn.ReLU())\n",
    "        self.linear = nn.Linear(32, 16)\n",
    "\n",
    "    def forward(self, X):\n",
    "        return self.linear(self.net(X))\n",
    "\n",
    "chimera = nn.Sequential(NestMLP(), nn.Linear(16, 20), FixedHiddenMLP())\n",
    "chimera(X)"
   ]
  },
  {
   "cell_type": "markdown",
   "id": "accepting-boating",
   "metadata": {},
   "source": [
    "## Efficiency\n",
    "\n",
    "The avid reader might start to worry\n",
    "about the efficiency of some of these operations.\n",
    "After all, we have lots of dictionary lookups,\n",
    "code execution, and lots of other Pythonic things\n",
    "taking place in what is supposed to be\n",
    "a high-performance deep learning library.\n",
    "The problems of Python's [global interpreter lock](https://wiki.python.org/moin/GlobalInterpreterLock) are well known. \n",
    "In the context of deep learning,\n",
    "we may worry that our extremely fast GPU(s)\n",
    "might have to wait until a puny CPU\n",
    "runs Python code before it gets another job to run."
   ]
  },
  {
   "cell_type": "markdown",
   "id": "theoretical-queue",
   "metadata": {},
   "source": [
    "## Summary\n",
    "\n",
    "* Layers are blocks.\n",
    "* Many layers can comprise a block.\n",
    "* Many blocks can comprise a block.\n",
    "* A block can contain code.\n",
    "* Blocks take care of lots of housekeeping, including parameter initialization and backpropagation.\n",
    "* Sequential concatenations of layers and blocks are handled by the `Sequential` block."
   ]
  },
  {
   "cell_type": "markdown",
   "id": "attempted-maker",
   "metadata": {},
   "source": [
    "## Exercises\n",
    "\n",
    "1. What kinds of problems will occur if you change `MySequential` to store blocks in a Python list?\n",
    "1. Implement a block that takes two blocks as an argument, say `net1` and `net2` and returns the concatenated output of both networks in the forward propagation. This is also called a parallel block.\n",
    "1. Assume that you want to concatenate multiple instances of the same network. Implement a factory function that generates multiple instances of the same block and build a larger network from it."
   ]
  }
 ],
 "metadata": {
  "kernelspec": {
   "display_name": "Python PyTorch",
   "language": "python",
   "name": "pytorch"
  },
  "language_info": {
   "codemirror_mode": {
    "name": "ipython",
    "version": 3
   },
   "file_extension": ".py",
   "mimetype": "text/x-python",
   "name": "python",
   "nbconvert_exporter": "python",
   "pygments_lexer": "ipython3",
   "version": "3.8.5"
  }
 },
 "nbformat": 4,
 "nbformat_minor": 5
}
