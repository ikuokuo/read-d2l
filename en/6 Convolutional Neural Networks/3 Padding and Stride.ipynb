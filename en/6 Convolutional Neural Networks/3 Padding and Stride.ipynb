{
 "cells": [
  {
   "cell_type": "markdown",
   "id": "insured-bulletin",
   "metadata": {},
   "source": [
    "# Padding and Stride\n",
    "\n",
    "In several cases, we incorporate techniques,\n",
    "including padding and strided convolutions,\n",
    "that affect the size of the output.\n",
    "As motivation, note that since kernels generally\n",
    "have width and height greater than $1$,\n",
    "after applying many successive convolutions,\n",
    "we tend to wind up with outputs that are\n",
    "considerably smaller than our input.\n",
    "If we start with a $240 \\times 240$ pixel image,\n",
    "$10$ layers of $5 \\times 5$ convolutions\n",
    "reduce the image to $200 \\times 200$ pixels,\n",
    "slicing off $30 \\%$ of the image and with it\n",
    "obliterating any interesting information\n",
    "on the boundaries of the original image.\n",
    "*Padding* is the most popular tool for handling this issue.\n",
    "\n",
    "In other cases, we may want to reduce the dimensionality drastically,\n",
    "e.g., if we find the original input resolution to be unwieldy.\n",
    "*Strided convolutions* are a popular technique that can help in these instances."
   ]
  },
  {
   "cell_type": "markdown",
   "id": "subjective-measurement",
   "metadata": {},
   "source": [
    "## Padding\n",
    "\n",
    "As described above, one tricky issue when applying convolutional layers\n",
    "is that we tend to lose pixels on the perimeter of our image.\n",
    "One straightforward solution to this problem\n",
    "is to add extra pixels of filler around the boundary of our input image,\n",
    "thus increasing the effective size of the image.\n",
    "Typically, we set the values of the extra pixels to zero.\n",
    "\n",
    "![](../img/conv-pad.svg) Two-dimensional cross-correlation with padding."
   ]
  },
  {
   "cell_type": "markdown",
   "id": "boxed-bridal",
   "metadata": {},
   "source": [
    "In general, if we add a total of $p_h$ rows of padding\n",
    "(roughly half on top and half on bottom)\n",
    "and a total of $p_w$ columns of padding\n",
    "(roughly half on the left and half on the right),\n",
    "the output shape will be\n",
    "\n",
    "$$(n_h-k_h+p_h+1)\\times(n_w-k_w+p_w+1).$$\n",
    "\n",
    "This means that the height and width of the output\n",
    "will increase by $p_h$ and $p_w$, respectively.\n",
    "\n",
    "In many cases, we will want to set $p_h=k_h-1$ and $p_w=k_w-1$\n",
    "to give the input and output the same height and width.\n",
    "This will make it easier to predict the output shape of each layer\n",
    "when constructing the network.\n",
    "Assuming that $k_h$ is odd here,\n",
    "we will pad $p_h/2$ rows on both sides of the height.\n",
    "If $k_h$ is even, one possibility is to\n",
    "pad $\\lceil p_h/2\\rceil$ rows on the top of the input\n",
    "and $\\lfloor p_h/2\\rfloor$ rows on the bottom.\n",
    "We will pad both sides of the width in the same way.\n",
    "\n",
    "CNNs commonly use convolution kernels\n",
    "with odd height and width values, such as 1, 3, 5, or 7.\n",
    "Choosing odd kernel sizes has the benefit\n",
    "that we can preserve the spatial dimensionality\n",
    "while padding with the same number of rows on top and bottom,\n",
    "and the same number of columns on left and right.\n",
    "\n",
    "Moreover, this practice of using odd kernels\n",
    "and padding to precisely preserve dimensionality\n",
    "offers a clerical benefit.\n",
    "For any two-dimensional tensor `X`,\n",
    "when the kernel's size is odd\n",
    "and the number of padding rows and columns\n",
    "on all sides are the same,\n",
    "producing an output with the same height and width as the input,\n",
    "we know that the output `Y[i, j]` is calculated\n",
    "by cross-correlation of the input and convolution kernel\n",
    "with the window centered on `X[i, j]`."
   ]
  },
  {
   "cell_type": "code",
   "execution_count": 1,
   "id": "suburban-maldives",
   "metadata": {},
   "outputs": [
    {
     "data": {
      "text/plain": [
       "torch.Size([8, 8])"
      ]
     },
     "execution_count": 1,
     "metadata": {},
     "output_type": "execute_result"
    }
   ],
   "source": [
    "import torch\n",
    "from torch import nn\n",
    "\n",
    "# We define a convenience function to calculate the convolutional layer. This\n",
    "# function initializes the convolutional layer weights and performs\n",
    "# corresponding dimensionality elevations and reductions on the input and\n",
    "# output\n",
    "def comp_conv2d(conv2d, X):\n",
    "    # Here (1, 1) indicates that the batch size and the number of channels\n",
    "    # are both 1\n",
    "    X = X.reshape((1, 1) + X.shape)\n",
    "    Y = conv2d(X)\n",
    "    # Exclude the first two dimensions that do not interest us: examples and\n",
    "    # channels\n",
    "    return Y.reshape(Y.shape[2:])\n",
    "# Note that here 1 row or column is padded on either side, so a total of 2\n",
    "# rows or columns are added\n",
    "conv2d = nn.Conv2d(1, 1, kernel_size=3, padding=1)\n",
    "X = torch.rand(size=(8, 8))\n",
    "comp_conv2d(conv2d, X).shape"
   ]
  },
  {
   "cell_type": "markdown",
   "id": "perceived-atlantic",
   "metadata": {},
   "source": [
    "When the height and width of the convolution kernel are different,\n",
    "we can make the output and input have the same height and width\n",
    "by setting different padding numbers for height and width."
   ]
  },
  {
   "cell_type": "code",
   "execution_count": 2,
   "id": "southern-welsh",
   "metadata": {},
   "outputs": [
    {
     "data": {
      "text/plain": [
       "torch.Size([8, 8])"
      ]
     },
     "execution_count": 2,
     "metadata": {},
     "output_type": "execute_result"
    }
   ],
   "source": [
    "# Here, we use a convolution kernel with a height of 5 and a width of 3. The\n",
    "# padding numbers on either side of the height and width are 2 and 1,\n",
    "# respectively\n",
    "conv2d = nn.Conv2d(1, 1, kernel_size=(5, 3), padding=(2, 1))\n",
    "comp_conv2d(conv2d, X).shape"
   ]
  },
  {
   "cell_type": "markdown",
   "id": "olympic-timber",
   "metadata": {},
   "source": [
    "## Stride\n",
    "\n",
    "When computing the cross-correlation,\n",
    "we start with the convolution window\n",
    "at the top-left corner of the input tensor,\n",
    "and then slide it over all locations both down and to the right.\n",
    "In previous examples, we default to sliding one element at a time.\n",
    "However, sometimes, either for computational efficiency\n",
    "or because we wish to downsample,\n",
    "we move our window more than one element at a time,\n",
    "skipping the intermediate locations.\n",
    "\n",
    "We refer to the number of rows and columns traversed per slide as the *stride*.\n",
    "So far, we have used strides of 1, both for height and width.\n",
    "Sometimes, we may want to use a larger stride.\n",
    "\n",
    "![](../img/conv-stride.svg) Cross-correlation with strides of 3 and 2 for height and width, respectively.\n",
    "\n",
    "In general, when the stride for the height is $s_h$\n",
    "and the stride for the width is $s_w$, the output shape is\n",
    "\n",
    "$$\\lfloor(n_h-k_h+p_h+s_h)/s_h\\rfloor \\times \\lfloor(n_w-k_w+p_w+s_w)/s_w\\rfloor.$$\n",
    "\n",
    "If we set $p_h=k_h-1$ and $p_w=k_w-1$,\n",
    "then the output shape will be simplified to\n",
    "$\\lfloor(n_h+s_h-1)/s_h\\rfloor \\times \\lfloor(n_w+s_w-1)/s_w\\rfloor$.\n",
    "Going a step further, if the input height and width\n",
    "are divisible by the strides on the height and width,\n",
    "then the output shape will be $(n_h/s_h) \\times (n_w/s_w)$."
   ]
  },
  {
   "cell_type": "code",
   "execution_count": 3,
   "id": "closing-drive",
   "metadata": {},
   "outputs": [
    {
     "data": {
      "text/plain": [
       "torch.Size([4, 4])"
      ]
     },
     "execution_count": 3,
     "metadata": {},
     "output_type": "execute_result"
    }
   ],
   "source": [
    "conv2d = nn.Conv2d(1, 1, kernel_size=3, padding=1, stride=2)\n",
    "comp_conv2d(conv2d, X).shape"
   ]
  },
  {
   "cell_type": "markdown",
   "id": "related-contents",
   "metadata": {},
   "source": [
    "Next, we will look at a slightly more complicated example."
   ]
  },
  {
   "cell_type": "code",
   "execution_count": 4,
   "id": "early-story",
   "metadata": {},
   "outputs": [
    {
     "data": {
      "text/plain": [
       "torch.Size([2, 2])"
      ]
     },
     "execution_count": 4,
     "metadata": {},
     "output_type": "execute_result"
    }
   ],
   "source": [
    "conv2d = nn.Conv2d(1, 1, kernel_size=(3, 5), padding=(0, 1), stride=(3, 4))\n",
    "comp_conv2d(conv2d, X).shape"
   ]
  },
  {
   "cell_type": "markdown",
   "id": "objective-antenna",
   "metadata": {},
   "source": [
    "For the sake of brevity, when the padding number\n",
    "on both sides of the input height and width are $p_h$ and $p_w$ respectively, we call the padding $(p_h, p_w)$.\n",
    "Specifically, when $p_h = p_w = p$, the padding is $p$.\n",
    "When the strides on the height and width are $s_h$ and $s_w$, respectively,\n",
    "we call the stride $(s_h, s_w)$.\n",
    "Specifically, when $s_h = s_w = s$, the stride is $s$.\n",
    "By default, the padding is 0 and the stride is 1.\n",
    "In practice, we rarely use inhomogeneous strides or padding,\n",
    "i.e., we usually have $p_h = p_w$ and $s_h = s_w$."
   ]
  },
  {
   "cell_type": "markdown",
   "id": "vocational-mixture",
   "metadata": {},
   "source": [
    "## Summary\n",
    "\n",
    "* Padding can increase the height and width of the output. This is often used to give the output the same height and width as the input.\n",
    "* The stride can reduce the resolution of the output, for example reducing the height and width of the output to only $1/n$ of the height and width of the input ($n$ is an integer greater than $1$).\n",
    "* Padding and stride can be used to adjust the dimensionality of the data effectively."
   ]
  },
  {
   "cell_type": "markdown",
   "id": "surface-offset",
   "metadata": {},
   "source": [
    "## Exercises\n",
    "\n",
    "1. For the last example in this section, use mathematics to calculate the output shape to see if it is consistent with the experimental result.\n",
    "1. Try other padding and stride combinations on the experiments in this section.\n",
    "1. For audio signals, what does a stride of 2 correspond to?\n",
    "1. What are the computational benefits of a stride larger than 1?"
   ]
  }
 ],
 "metadata": {
  "kernelspec": {
   "display_name": "Python PyTorch",
   "language": "python",
   "name": "pytorch"
  },
  "language_info": {
   "codemirror_mode": {
    "name": "ipython",
    "version": 3
   },
   "file_extension": ".py",
   "mimetype": "text/x-python",
   "name": "python",
   "nbconvert_exporter": "python",
   "pygments_lexer": "ipython3",
   "version": "3.8.5"
  },
  "toc-autonumbering": true
 },
 "nbformat": 4,
 "nbformat_minor": 5
}
